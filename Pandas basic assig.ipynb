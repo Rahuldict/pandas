{
 "cells": [
  {
   "cell_type": "code",
   "execution_count": 1,
   "id": "e4d5f0ac-eb7b-441c-b453-b90ef231fa60",
   "metadata": {},
   "outputs": [],
   "source": [
    "#Q1 = Q1. Create a Pandas Series that contains the following data: 4, 8, 15, 16, 23, and 42. Then, print the series."
   ]
  },
  {
   "cell_type": "code",
   "execution_count": 2,
   "id": "21102e2d-98c3-4d0e-a3fc-8b785347f62f",
   "metadata": {},
   "outputs": [
    {
     "name": "stdout",
     "output_type": "stream",
     "text": [
      "0     4\n",
      "1     8\n",
      "2    15\n",
      "3    16\n",
      "4    23\n",
      "5    42\n",
      "dtype: int64\n"
     ]
    }
   ],
   "source": [
    "#import pandas library\n",
    "import pandas as pd\n",
    "\n",
    "#create a list of data\n",
    "data = [4, 8, 15, 16, 23, 42]\n",
    "\n",
    "#create a series from the list\n",
    "my_series = pd.Series(data)\n",
    "\n",
    "#print the series\n",
    "print(my_series)\n"
   ]
  },
  {
   "cell_type": "code",
   "execution_count": null,
   "id": "7c546596-191f-4aa3-bb0d-fb1f41a3ccae",
   "metadata": {},
   "outputs": [],
   "source": [
    "#Q2 = Q2. Create a variable of list type containing 10 elements in it, and apply pandas.Series function on the variable print it."
   ]
  },
  {
   "cell_type": "code",
   "execution_count": 3,
   "id": "e8bff6cd-1d49-4bcf-8214-c82e19e75b60",
   "metadata": {},
   "outputs": [
    {
     "name": "stdout",
     "output_type": "stream",
     "text": [
      "0     1\n",
      "1     2\n",
      "2     3\n",
      "3     4\n",
      "4     5\n",
      "5     6\n",
      "6     7\n",
      "7     8\n",
      "8     9\n",
      "9    10\n",
      "dtype: int64\n"
     ]
    }
   ],
   "source": [
    "#import pandas library\n",
    "import pandas as pd\n",
    "\n",
    "#create a variable of list type with 10 elements\n",
    "my_list = [1, 2, 3, 4, 5, 6, 7, 8, 9, 10]\n",
    "\n",
    "#create a series from the list variable\n",
    "my_series = pd.Series(my_list)\n",
    "\n",
    "#print the series\n",
    "print(my_series)\n"
   ]
  },
  {
   "cell_type": "code",
   "execution_count": null,
   "id": "985d25e8-c5e5-4082-9696-89b5d8688586",
   "metadata": {},
   "outputs": [],
   "source": [
    "#Q3  Create a Pandas DataFrame that contains the following data:"
   ]
  },
  {
   "cell_type": "code",
   "execution_count": 12,
   "id": "52c0ad34-978b-4bfa-94da-c4e334d4e009",
   "metadata": {},
   "outputs": [
    {
     "name": "stdout",
     "output_type": "stream",
     "text": [
      "     Name Age  Gender\n",
      "1   Alice  25  Female\n",
      "2     Bob  30    Male\n",
      "3  Claire  27  Female\n"
     ]
    }
   ],
   "source": [
    "#import pandas library\n",
    "import pandas as pd\n",
    "\n",
    "#create a list of data\n",
    "data = [\"Alice\", 25, \"Female\", \"Bob\", 30, \"Male\", \"Claire\", 27, \"Female\"]\n",
    "\n",
    "#create a DataFrame from the list\n",
    "df = pd.DataFrame(data)\n",
    "\n",
    "#reshape the DataFrame to have three columns\n",
    "df = df.values.reshape(3,3)\n",
    "\n",
    "#specify the index and column names\n",
    "df = pd.DataFrame(df, index=[1,2,3], columns=[\"Name\", \"Age\", \"Gender\"])\n",
    "\n",
    "#print the DataFrame\n",
    "print(df)\n"
   ]
  },
  {
   "cell_type": "code",
   "execution_count": 4,
   "id": "2192cbf3-b4b9-4f51-8075-6c5ff35c6f0a",
   "metadata": {},
   "outputs": [],
   "source": [
    "#4 = What is ‘DataFrame’ in pandas and how is it different from pandas.series? Explain with an example."
   ]
  },
  {
   "cell_type": "code",
   "execution_count": 5,
   "id": "b291ee6d-0559-4dcd-9d22-f0c374fd47a5",
   "metadata": {},
   "outputs": [
    {
     "name": "stdout",
     "output_type": "stream",
     "text": [
      "      name  age gender\n",
      "0    Alice   25      F\n",
      "1      Bob   30      M\n",
      "2  Charlie   35      M\n",
      "3    David   40      M\n",
      "0    25\n",
      "1    30\n",
      "2    35\n",
      "3    40\n",
      "dtype: int64\n"
     ]
    }
   ],
   "source": [
    "#import pandas library\n",
    "import pandas as pd\n",
    "\n",
    "#create a DataFrame from a dictionary of lists\n",
    "data = {\"name\": [\"Alice\", \"Bob\", \"Charlie\", \"David\"],\n",
    "        \"age\": [25, 30, 35, 40],\n",
    "        \"gender\": [\"F\", \"M\", \"M\", \"M\"]}\n",
    "df = pd.DataFrame(data)\n",
    "\n",
    "#print the DataFrame\n",
    "print(df)\n",
    "\n",
    "#create a Series from a list\n",
    "ages = [25, 30, 35, 40]\n",
    "s = pd.Series(ages)\n",
    "\n",
    "#print the Series\n",
    "print(s)\n"
   ]
  },
  {
   "cell_type": "code",
   "execution_count": 6,
   "id": "881afcbb-6fbd-4994-b288-f3ebd8f7daa1",
   "metadata": {},
   "outputs": [],
   "source": [
    "#Q5 =  What are some common functions you can use to manipulate data in a Pandas DataFrame? Can you give an example of when you might use one of these functions?"
   ]
  },
  {
   "cell_type": "code",
   "execution_count": 7,
   "id": "beedda1f-ce1f-4b09-a91d-8d3e1b3d82c9",
   "metadata": {},
   "outputs": [
    {
     "name": "stdout",
     "output_type": "stream",
     "text": [
      "    name  age gender\n",
      "0  Alice   25      F\n",
      "1    Bob   30      M\n",
      "             age\n",
      "count   4.000000\n",
      "mean   32.500000\n",
      "std     6.454972\n",
      "min    25.000000\n",
      "25%    28.750000\n",
      "50%    32.500000\n",
      "75%    36.250000\n",
      "max    40.000000\n",
      "      name  age gender\n",
      "3    David   40      M\n",
      "2  Charlie   35      M\n",
      "1      Bob   30      M\n",
      "0    Alice   25      F\n",
      "      name  age\n",
      "0    Alice   25\n",
      "1      Bob   30\n",
      "2  Charlie   35\n",
      "3    David   40\n",
      "  fullname  age gender\n",
      "0    Alice   25      F\n",
      "1      Bob   30      M\n",
      "2  Charlie   35      M\n",
      "3    David   40      M\n"
     ]
    }
   ],
   "source": [
    "#import pandas library\n",
    "import pandas as pd\n",
    "\n",
    "#create a DataFrame from a dictionary of lists\n",
    "data = {\"name\": [\"Alice\", \"Bob\", \"Charlie\", \"David\"],\n",
    "        \"age\": [25, 30, 35, 40],\n",
    "        \"gender\": [\"F\", \"M\", \"M\", \"M\"]}\n",
    "df = pd.DataFrame(data)\n",
    "\n",
    "#use head() to get the first two rows\n",
    "print(df.head(2))\n",
    "\n",
    "#use describe() to get the summary statistics for the numeric columns\n",
    "print(df.describe())\n",
    "\n",
    "#use sort_values() to sort the DataFrame by age in descending order\n",
    "print(df.sort_values(by=\"age\", ascending=False))\n",
    "\n",
    "#use drop() to drop the gender column\n",
    "print(df.drop(axis=1, labels=\"gender\"))\n",
    "\n",
    "#use rename() to rename the name column to fullname\n",
    "print(df.rename(axis=1, mapper={\"name\": \"fullname\"}))\n"
   ]
  },
  {
   "cell_type": "code",
   "execution_count": 8,
   "id": "68737b1f-35bb-4235-b66a-9a96a86eeb47",
   "metadata": {},
   "outputs": [],
   "source": [
    "#Q6 = Which of the following is mutable in nature Series, DataFrame, Panel?"
   ]
  },
  {
   "cell_type": "code",
   "execution_count": 9,
   "id": "0959f474-13f2-4309-84bc-9bbc9a30809b",
   "metadata": {},
   "outputs": [],
   "source": [
    "# ans =  Out of the three data structures in pandas, Series, DataFrame, and Panel, the DataFrame is the only one that is mutable in nature. This means that the DataFrame can be modified by adding, deleting, or updating its rows and columns. The Series and the Panel are immutable, meaning that they cannot be changed once created ."
   ]
  },
  {
   "cell_type": "code",
   "execution_count": 10,
   "id": "7191f490-81d7-4589-aeec-b197da560ea1",
   "metadata": {},
   "outputs": [],
   "source": [
    "# Q7. Create a DataFrame using multiple Series. Explain with an example."
   ]
  },
  {
   "cell_type": "code",
   "execution_count": 11,
   "id": "b1e5c019-d224-44e1-a9dd-b4b279d71031",
   "metadata": {},
   "outputs": [
    {
     "name": "stdout",
     "output_type": "stream",
     "text": [
      "      name  age gender\n",
      "1    Alice   25      F\n",
      "2      Bob   30      M\n",
      "3  Charlie   35      M\n",
      "4    David   40      M\n"
     ]
    }
   ],
   "source": [
    "#import pandas library\n",
    "import pandas as pd\n",
    "\n",
    "#create three Series with the same index\n",
    "name = pd.Series([\"Alice\", \"Bob\", \"Charlie\", \"David\"], index=[1,2,3,4])\n",
    "age = pd.Series([25, 30, 35, 40], index=[1,2,3,4])\n",
    "gender = pd.Series([\"F\", \"M\", \"M\", \"M\"], index=[1,2,3,4])\n",
    "\n",
    "#create a dictionary that maps each Series to a column name\n",
    "data = {\"name\": name,\n",
    "        \"age\": age,\n",
    "        \"gender\": gender}\n",
    "\n",
    "#create a DataFrame from the dictionary of Series\n",
    "df = pd.DataFrame(data)\n",
    "\n",
    "#print the DataFrame\n",
    "print(df)\n"
   ]
  },
  {
   "cell_type": "code",
   "execution_count": null,
   "id": "0fd35a84-bdc5-4416-b0bc-910e5e4fb0a9",
   "metadata": {},
   "outputs": [],
   "source": []
  }
 ],
 "metadata": {
  "kernelspec": {
   "display_name": "Python 3 (ipykernel)",
   "language": "python",
   "name": "python3"
  },
  "language_info": {
   "codemirror_mode": {
    "name": "ipython",
    "version": 3
   },
   "file_extension": ".py",
   "mimetype": "text/x-python",
   "name": "python",
   "nbconvert_exporter": "python",
   "pygments_lexer": "ipython3",
   "version": "3.10.8"
  }
 },
 "nbformat": 4,
 "nbformat_minor": 5
}
